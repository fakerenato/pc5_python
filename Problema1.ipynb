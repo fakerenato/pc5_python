{
 "cells": [
  {
   "cell_type": "markdown",
   "metadata": {},
   "source": [
    "# Ejercicio1 - Busqueda de Alojamiento en Airbnb (Jupyter).\n",
    "\n",
    "Supongamos que somos un agente de [Airbnb](http://www.airbnb.com) localizado en Lisboa, y tenemos que atender peticiones de varios clientes. Tenemos un archivo llamado `airbnb.csv` (en la carpeta data) donde tenemos información de todos los alojamientos de Airbnb en Lisboa."
   ]
  },
  {
   "cell_type": "code",
   "execution_count": 1,
   "metadata": {},
   "outputs": [],
   "source": [
    "import pandas as pd\n",
    "df_airbnb = pd.read_csv(\"./data/airbnb.csv\")"
   ]
  },
  {
   "cell_type": "code",
   "execution_count": 2,
   "metadata": {},
   "outputs": [
    {
     "data": {
      "text/html": [
       "<div>\n",
       "<style scoped>\n",
       "    .dataframe tbody tr th:only-of-type {\n",
       "        vertical-align: middle;\n",
       "    }\n",
       "\n",
       "    .dataframe tbody tr th {\n",
       "        vertical-align: top;\n",
       "    }\n",
       "\n",
       "    .dataframe thead th {\n",
       "        text-align: right;\n",
       "    }\n",
       "</style>\n",
       "<table border=\"1\" class=\"dataframe\">\n",
       "  <thead>\n",
       "    <tr style=\"text-align: right;\">\n",
       "      <th></th>\n",
       "      <th>room_id</th>\n",
       "      <th>host_id</th>\n",
       "      <th>room_type</th>\n",
       "      <th>neighborhood</th>\n",
       "      <th>reviews</th>\n",
       "      <th>overall_satisfaction</th>\n",
       "      <th>accommodates</th>\n",
       "      <th>bedrooms</th>\n",
       "      <th>price</th>\n",
       "    </tr>\n",
       "  </thead>\n",
       "  <tbody>\n",
       "    <tr>\n",
       "      <th>0</th>\n",
       "      <td>6499</td>\n",
       "      <td>14455</td>\n",
       "      <td>Entire home/apt</td>\n",
       "      <td>Belém</td>\n",
       "      <td>8</td>\n",
       "      <td>5.0</td>\n",
       "      <td>2</td>\n",
       "      <td>1.0</td>\n",
       "      <td>57.0</td>\n",
       "    </tr>\n",
       "    <tr>\n",
       "      <th>1</th>\n",
       "      <td>17031</td>\n",
       "      <td>66015</td>\n",
       "      <td>Entire home/apt</td>\n",
       "      <td>Alvalade</td>\n",
       "      <td>0</td>\n",
       "      <td>0.0</td>\n",
       "      <td>2</td>\n",
       "      <td>1.0</td>\n",
       "      <td>46.0</td>\n",
       "    </tr>\n",
       "    <tr>\n",
       "      <th>2</th>\n",
       "      <td>25659</td>\n",
       "      <td>107347</td>\n",
       "      <td>Entire home/apt</td>\n",
       "      <td>Santa Maria Maior</td>\n",
       "      <td>63</td>\n",
       "      <td>5.0</td>\n",
       "      <td>3</td>\n",
       "      <td>1.0</td>\n",
       "      <td>69.0</td>\n",
       "    </tr>\n",
       "    <tr>\n",
       "      <th>3</th>\n",
       "      <td>29248</td>\n",
       "      <td>125768</td>\n",
       "      <td>Entire home/apt</td>\n",
       "      <td>Santa Maria Maior</td>\n",
       "      <td>225</td>\n",
       "      <td>4.5</td>\n",
       "      <td>4</td>\n",
       "      <td>1.0</td>\n",
       "      <td>58.0</td>\n",
       "    </tr>\n",
       "    <tr>\n",
       "      <th>4</th>\n",
       "      <td>29396</td>\n",
       "      <td>126415</td>\n",
       "      <td>Entire home/apt</td>\n",
       "      <td>Santa Maria Maior</td>\n",
       "      <td>132</td>\n",
       "      <td>5.0</td>\n",
       "      <td>4</td>\n",
       "      <td>1.0</td>\n",
       "      <td>67.0</td>\n",
       "    </tr>\n",
       "  </tbody>\n",
       "</table>\n",
       "</div>"
      ],
      "text/plain": [
       "   room_id  host_id        room_type       neighborhood  reviews  \\\n",
       "0     6499    14455  Entire home/apt              Belém        8   \n",
       "1    17031    66015  Entire home/apt           Alvalade        0   \n",
       "2    25659   107347  Entire home/apt  Santa Maria Maior       63   \n",
       "3    29248   125768  Entire home/apt  Santa Maria Maior      225   \n",
       "4    29396   126415  Entire home/apt  Santa Maria Maior      132   \n",
       "\n",
       "   overall_satisfaction  accommodates  bedrooms  price  \n",
       "0                   5.0             2       1.0   57.0  \n",
       "1                   0.0             2       1.0   46.0  \n",
       "2                   5.0             3       1.0   69.0  \n",
       "3                   4.5             4       1.0   58.0  \n",
       "4                   5.0             4       1.0   67.0  "
      ]
     },
     "execution_count": 2,
     "metadata": {},
     "output_type": "execute_result"
    }
   ],
   "source": [
    "df_airbnb.head()"
   ]
  },
  {
   "cell_type": "markdown",
   "metadata": {},
   "source": [
    "En concreto el dataset tiene las siguientes variables:\n",
    "- room_id: el identificador de la propiedad\n",
    "- host_id: el identificador del dueño de la propiedad\n",
    "- room_type: tipo de propiedad (vivienda completa/(habitacion para compartir/habitación privada)\n",
    "- neighborhood: el barrio de Lisboa\n",
    "- reviews: El numero de opiniones\n",
    "- overall_satisfaction: Puntuacion media del apartamento\n",
    "- accommodates: El numero de personas que se pueden alojar en la propiedad\n",
    "- bedrooms: El número de habitaciones\n",
    "- price: El precio (en euros) por noche"
   ]
  },
  {
   "cell_type": "markdown",
   "metadata": {},
   "source": [
    "## Ejercicios"
   ]
  },
  {
   "cell_type": "markdown",
   "metadata": {},
   "source": [
    "### 1. Realizar Análisis Exploratorio de los datos"
   ]
  },
  {
   "cell_type": "markdown",
   "metadata": {},
   "source": [
    "Sobre este apartado deberá explorar los datos como se vio en clase .. aplicar métodos shape, columns, etc"
   ]
  },
  {
   "cell_type": "code",
   "execution_count": null,
   "metadata": {},
   "outputs": [],
   "source": [
    "import pandas as pd\n",
    "import matplotlib.pyplot as plt\n",
    "\n",
    "# Cargar el archivo CSV proporcionado\n",
    "file_path = '/mnt/data/airbnb.csv'\n",
    "df = pd.read_csv(file_path)\n",
    "\n",
    "# Mostrar las primeras filas del DataFrame para una visión general\n",
    "print(\"Primeras filas del DataFrame:\")\n",
    "print(df.head())\n",
    "\n",
    "# Verificar la dimensión del DataFrame (número de filas y columnas)\n",
    "print(\"\\nDimensiones del DataFrame (filas, columnas):\")\n",
    "print(df.shape)\n",
    "\n",
    "# Descripción estadística del DataFrame (sólo columnas numéricas)\n",
    "print(\"\\nDescripción estadística de las columnas numéricas:\")\n",
    "print(df.describe())\n",
    "\n",
    "# Contar valores nulos en cada columna\n",
    "print(\"\\nConteo de valores nulos en cada columna:\")\n",
    "print(df.isnull().sum())\n",
    "\n",
    "# Visualizar la distribución de los precios\n",
    "plt.figure(figsize=(10, 6))\n",
    "df['price'].hist(bins=30, edgecolor='black')\n",
    "plt.title('Distribución de Precios')\n",
    "plt.xlabel('Precio (€)')\n",
    "plt.ylabel('Frecuencia')\n",
    "plt.show()\n"
   ]
  },
  {
   "cell_type": "markdown",
   "metadata": {},
   "source": [
    "### 2. Realizar Filtrados a Datos\n",
    "\n",
    "- Realizar filtrados, según sea el caso. \n",
    "\n",
    "\n",
    "Nota: \n",
    "Para obtener el top de un conjunto de datos debemos aplicar un head(n) además de ordenar los datos"
   ]
  },
  {
   "cell_type": "markdown",
   "metadata": {},
   "source": [
    "#### Caso 1.\n",
    "\n",
    "Alicia va a ir a Lisboa durante una semana con su marido y sus 2 hijos. Están buscando un apartamento con habitaciones separadas para los padres y los hijos. No les importa donde alojarse o el precio, simplemente quieren tener una experiencia agradable. Esto significa que solo aceptan lugares con más de 10 críticas con una puntuación mayor de 4. Cuando seleccionemos habitaciones para Alicia, tenemos que asegurarnos de ordenar las habitaciones de mejor a peor puntuación. Para aquellas habitaciones que tienen la misma puntuación, debemos mostrar antes aquellas con más críticas. Debemos darle 3 alternativas."
   ]
  },
  {
   "cell_type": "code",
   "execution_count": null,
   "metadata": {},
   "outputs": [],
   "source": [
    "import pandas as pd\n",
    "\n",
    "# Cargar el archivo CSV\n",
    "file_path = '/mnt/data/airbnb.csv'\n",
    "df = pd.read_csv(file_path)\n",
    "\n",
    "# Filtrar según los criterios:\n",
    "# - Apartamentos que acomoden al menos a 4 personas (2 padres y 2 hijos).\n",
    "# - Deben tener al menos 2 habitaciones.\n",
    "# - Más de 10 reseñas.\n",
    "# - Puntuación mayor a 4.\n",
    "filtered_df = df[\n",
    "    (df['accommodates'] >= 4) & \n",
    "    (df['bedrooms'] >= 2) & \n",
    "    (df['reviews'] > 10) & \n",
    "    (df['overall_satisfaction'] > 4)\n",
    "]\n",
    "\n",
    "# Ordenar por 'overall_satisfaction' descendente y luego por 'reviews' descendente\n",
    "sorted_df = filtered_df.sort_values(by=['overall_satisfaction', 'reviews'], ascending=[False, False])\n",
    "\n",
    "# Seleccionar las 3 mejores opciones\n",
    "top_3_options = sorted_df.head(3)\n",
    "\n",
    "# Mostrar las 3 mejores opciones\n",
    "print(top_3_options)\n"
   ]
  },
  {
   "cell_type": "markdown",
   "metadata": {},
   "source": [
    "#### Caso 2\n",
    "\n",
    "Roberto es un casero que tiene una casa en Airbnb. De vez en cuando nos llama preguntando sobre cuales son las críticas de su alojamiento. Hoy está particularmente enfadado, ya que su hermana Clara ha puesto una casa en Airbnb y Roberto quiere asegurarse de que su casa tiene más críticas que las de Clara. Tenemos que crear un dataframe con las propiedades de ambos. Las id de las casas de Roberto y Clara son 97503 y 90387  respectivamente. Finalmente guardamos este dataframe como excel llamado \"roberto.xls"
   ]
  },
  {
   "cell_type": "code",
   "execution_count": null,
   "metadata": {
    "tags": []
   },
   "outputs": [],
   "source": [
    "import pandas as pd\n",
    "\n",
    "# Cargar el archivo CSV proporcionado\n",
    "file_path = '/mnt/data/airbnb.csv'\n",
    "df = pd.read_csv(file_path)\n",
    "\n",
    "# Filtrar las propiedades de Roberto (room_id 97503) y Clara (room_id 90387)\n",
    "propiedades_roberto_clara = df[df['room_id'].isin([97503, 90387])]\n",
    "\n",
    "# Guardar el DataFrame filtrado como un archivo Excel en formato .xlsx\n",
    "output_path_xlsx = '/mnt/data/roberto.xlsx'\n",
    "propiedades_roberto_clara.to_excel(output_path_xlsx, index=False)\n"
   ]
  },
  {
   "cell_type": "markdown",
   "metadata": {},
   "source": [
    "\n",
    "#### Caso 3\n",
    "\n",
    "Diana va a Lisboa a pasar 3 noches y quiere conocer a gente nueva. Tiene un presupuesto de 50€ para su alojamiento. Debemos buscarle las 10 propiedades más baratas, dandole preferencia a aquellas que sean habitaciones compartidas *(room_type == Shared room)*, y para aquellas viviendas compartidas debemos elegir aquellas con mejor puntuación."
   ]
  },
  {
   "cell_type": "code",
   "execution_count": null,
   "metadata": {
    "tags": []
   },
   "outputs": [],
   "source": [
    "import pandas as pd\n",
    "\n",
    "# Cargar el archivo CSV proporcionado\n",
    "file_path = '/mnt/data/airbnb.csv'\n",
    "df = pd.read_csv(file_path)\n",
    "\n",
    "# Filtrar las propiedades en Lisboa que estén dentro del presupuesto de 50€ por noche\n",
    "propiedades_dentro_presupuesto = df[df['price'] <= 50]\n",
    "\n",
    "# Filtrar propiedades con preferencia a \"Shared room\" y ordenarlas por puntuación\n",
    "habitaciones_compartidas = propiedades_dentro_presupuesto[propiedades_dentro_presupuesto['room_type'] == 'Shared room']\n",
    "habitaciones_compartidas_ordenadas = habitaciones_compartidas.sort_values(by='overall_satisfaction', ascending=False)\n",
    "\n",
    "# Si hay menos de 10 habitaciones compartidas, incluir las demás propiedades más baratas\n",
    "otras_propiedades = propiedades_dentro_presupuesto[propiedades_dentro_presupuesto['room_type'] != 'Shared room']\n",
    "otras_propiedades_ordenadas = otras_propiedades.sort_values(by='price')\n",
    "\n",
    "# Combinar las habitaciones compartidas y las otras propiedades para obtener las 10 más baratas\n",
    "propiedades_finales = pd.concat([habitaciones_compartidas_ordenadas, otras_propiedades_ordenadas]).head(10)\n",
    "\n",
    "# Mostrar el resultado\n",
    "propiedades_finales\n"
   ]
  },
  {
   "cell_type": "markdown",
   "metadata": {},
   "source": [
    "### 3. Realizar Agrupamientos de Datos\n",
    "\n",
    "\n",
    "- Según su criterio, aplicar 2 tipos de agrupamientos a los datos brindados. \n",
    "- **Opcional**, averiguar como realizar el gráfico de los 2 agrupamientos de los datos realizados. Se podría emplear librerias como mathplot y searbon ... ayudarse de chatgtp, etc\n"
   ]
  },
  {
   "cell_type": "code",
   "execution_count": null,
   "metadata": {},
   "outputs": [],
   "source": [
    "import pandas as pd\n",
    "import matplotlib.pyplot as plt\n",
    "import seaborn as sns\n",
    "\n",
    "# Cargar el archivo CSV proporcionado\n",
    "file_path = '/mnt/data/airbnb.csv'\n",
    "df = pd.read_csv(file_path)\n",
    "\n",
    "# Filtrar las propiedades en Lisboa que estén dentro del presupuesto de 50€ por noche\n",
    "propiedades_dentro_presupuesto = df[df['price'] <= 50]\n",
    "\n",
    "# Filtrar propiedades con preferencia a \"Shared room\" y ordenarlas por puntuación\n",
    "habitaciones_compartidas = propiedades_dentro_presupuesto[propiedades_dentro_presupuesto['room_type'] == 'Shared room']\n",
    "habitaciones_compartidas_ordenadas = habitaciones_compartidas.sort_values(by='overall_satisfaction', ascending=False)\n",
    "\n",
    "# Filtrar otras propiedades más baratas\n",
    "otras_propiedades = propiedades_dentro_presupuesto[propiedades_dentro_presupuesto['room_type'] != 'Shared room']\n",
    "otras_propiedades_ordenadas = otras_propiedades.sort_values(by='price')\n",
    "\n",
    "# Combinar las habitaciones compartidas y las otras propiedades para obtener las 10 más baratas\n",
    "propiedades_finales = pd.concat([habitaciones_compartidas_ordenadas, otras_propiedades_ordenadas]).head(10)\n",
    "\n",
    "# Gráfico 1: Habitaciones compartidas\n",
    "plt.figure(figsize=(10, 6))\n",
    "sns.barplot(x='price', y='neighborhood', data=habitaciones_compartidas_ordenadas, palette='coolwarm')\n",
    "plt.title('Habitaciones Compartidas en Lisboa (Precio <= 50€)')\n",
    "plt.xlabel('Precio (€)')\n",
    "plt.ylabel('Barrio')\n",
    "plt.show()\n",
    "\n",
    "# Gráfico 2: Otras propiedades\n",
    "plt.figure(figsize=(10, 6))\n",
    "sns.barplot(x='price', y='neighborhood', data=otras_propiedades_ordenadas.head(10), palette='viridis')\n",
    "plt.title('Otras Propiedades en Lisboa (Precio <= 50€)')\n",
    "plt.xlabel('Precio (€)')\n",
    "plt.ylabel('Barrio')\n",
    "plt.show()\n"
   ]
  }
 ],
 "metadata": {
  "kernelspec": {
   "display_name": "Python 3 (ipykernel)",
   "language": "python",
   "name": "python3"
  },
  "language_info": {
   "codemirror_mode": {
    "name": "ipython",
    "version": 3
   },
   "file_extension": ".py",
   "mimetype": "text/x-python",
   "name": "python",
   "nbconvert_exporter": "python",
   "pygments_lexer": "ipython3",
   "version": "3.10.13"
  }
 },
 "nbformat": 4,
 "nbformat_minor": 4
}
